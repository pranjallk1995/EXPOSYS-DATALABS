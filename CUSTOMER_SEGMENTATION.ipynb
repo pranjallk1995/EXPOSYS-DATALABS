{
 "cells": [
  {
   "cell_type": "markdown",
   "metadata": {},
   "source": [
    "# CUSTOMER SEGMENTATION"
   ]
  },
  {
   "cell_type": "markdown",
   "metadata": {},
   "source": [
    "### Loading data"
   ]
  },
  {
   "cell_type": "code",
   "execution_count": 1,
   "metadata": {},
   "outputs": [],
   "source": [
    "#importing libraries\n",
    "import pandas as pd\n",
    "import numpy as np\n",
    "import seaborn as sns"
   ]
  },
  {
   "cell_type": "code",
   "execution_count": 2,
   "metadata": {},
   "outputs": [],
   "source": [
    "#loading data\n",
    "df = pd.read_csv('Mall_Customers.csv')"
   ]
  },
  {
   "cell_type": "code",
   "execution_count": 3,
   "metadata": {},
   "outputs": [
    {
     "data": {
      "text/html": [
       "<div>\n",
       "<style scoped>\n",
       "    .dataframe tbody tr th:only-of-type {\n",
       "        vertical-align: middle;\n",
       "    }\n",
       "\n",
       "    .dataframe tbody tr th {\n",
       "        vertical-align: top;\n",
       "    }\n",
       "\n",
       "    .dataframe thead th {\n",
       "        text-align: right;\n",
       "    }\n",
       "</style>\n",
       "<table border=\"1\" class=\"dataframe\">\n",
       "  <thead>\n",
       "    <tr style=\"text-align: right;\">\n",
       "      <th></th>\n",
       "      <th>CustomerID</th>\n",
       "      <th>Gender</th>\n",
       "      <th>Age</th>\n",
       "      <th>Annual Income (k$)</th>\n",
       "      <th>Spending Score (1-100)</th>\n",
       "    </tr>\n",
       "  </thead>\n",
       "  <tbody>\n",
       "    <tr>\n",
       "      <th>0</th>\n",
       "      <td>1</td>\n",
       "      <td>Male</td>\n",
       "      <td>19</td>\n",
       "      <td>15</td>\n",
       "      <td>39</td>\n",
       "    </tr>\n",
       "    <tr>\n",
       "      <th>1</th>\n",
       "      <td>2</td>\n",
       "      <td>Male</td>\n",
       "      <td>21</td>\n",
       "      <td>15</td>\n",
       "      <td>81</td>\n",
       "    </tr>\n",
       "    <tr>\n",
       "      <th>2</th>\n",
       "      <td>3</td>\n",
       "      <td>Female</td>\n",
       "      <td>20</td>\n",
       "      <td>16</td>\n",
       "      <td>6</td>\n",
       "    </tr>\n",
       "    <tr>\n",
       "      <th>3</th>\n",
       "      <td>4</td>\n",
       "      <td>Female</td>\n",
       "      <td>23</td>\n",
       "      <td>16</td>\n",
       "      <td>77</td>\n",
       "    </tr>\n",
       "    <tr>\n",
       "      <th>4</th>\n",
       "      <td>5</td>\n",
       "      <td>Female</td>\n",
       "      <td>31</td>\n",
       "      <td>17</td>\n",
       "      <td>40</td>\n",
       "    </tr>\n",
       "  </tbody>\n",
       "</table>\n",
       "</div>"
      ],
      "text/plain": [
       "   CustomerID  Gender  Age  Annual Income (k$)  Spending Score (1-100)\n",
       "0           1    Male   19                  15                      39\n",
       "1           2    Male   21                  15                      81\n",
       "2           3  Female   20                  16                       6\n",
       "3           4  Female   23                  16                      77\n",
       "4           5  Female   31                  17                      40"
      ]
     },
     "execution_count": 3,
     "metadata": {},
     "output_type": "execute_result"
    }
   ],
   "source": [
    "#inspecting data\n",
    "df.head()"
   ]
  },
  {
   "cell_type": "code",
   "execution_count": 4,
   "metadata": {},
   "outputs": [
    {
     "data": {
      "text/html": [
       "<div>\n",
       "<style scoped>\n",
       "    .dataframe tbody tr th:only-of-type {\n",
       "        vertical-align: middle;\n",
       "    }\n",
       "\n",
       "    .dataframe tbody tr th {\n",
       "        vertical-align: top;\n",
       "    }\n",
       "\n",
       "    .dataframe thead th {\n",
       "        text-align: right;\n",
       "    }\n",
       "</style>\n",
       "<table border=\"1\" class=\"dataframe\">\n",
       "  <thead>\n",
       "    <tr style=\"text-align: right;\">\n",
       "      <th></th>\n",
       "      <th>Gender</th>\n",
       "      <th>Age</th>\n",
       "      <th>Annual Income (k$)</th>\n",
       "      <th>Spending Score (1-100)</th>\n",
       "    </tr>\n",
       "  </thead>\n",
       "  <tbody>\n",
       "    <tr>\n",
       "      <th>0</th>\n",
       "      <td>Male</td>\n",
       "      <td>19</td>\n",
       "      <td>15</td>\n",
       "      <td>39</td>\n",
       "    </tr>\n",
       "    <tr>\n",
       "      <th>1</th>\n",
       "      <td>Male</td>\n",
       "      <td>21</td>\n",
       "      <td>15</td>\n",
       "      <td>81</td>\n",
       "    </tr>\n",
       "    <tr>\n",
       "      <th>2</th>\n",
       "      <td>Female</td>\n",
       "      <td>20</td>\n",
       "      <td>16</td>\n",
       "      <td>6</td>\n",
       "    </tr>\n",
       "    <tr>\n",
       "      <th>3</th>\n",
       "      <td>Female</td>\n",
       "      <td>23</td>\n",
       "      <td>16</td>\n",
       "      <td>77</td>\n",
       "    </tr>\n",
       "    <tr>\n",
       "      <th>4</th>\n",
       "      <td>Female</td>\n",
       "      <td>31</td>\n",
       "      <td>17</td>\n",
       "      <td>40</td>\n",
       "    </tr>\n",
       "  </tbody>\n",
       "</table>\n",
       "</div>"
      ],
      "text/plain": [
       "   Gender  Age  Annual Income (k$)  Spending Score (1-100)\n",
       "0    Male   19                  15                      39\n",
       "1    Male   21                  15                      81\n",
       "2  Female   20                  16                       6\n",
       "3  Female   23                  16                      77\n",
       "4  Female   31                  17                      40"
      ]
     },
     "execution_count": 4,
     "metadata": {},
     "output_type": "execute_result"
    }
   ],
   "source": [
    "#dropping customerID\n",
    "df.drop(['CustomerID'], axis = 1, inplace = True)\n",
    "df.head()"
   ]
  },
  {
   "cell_type": "markdown",
   "metadata": {},
   "source": [
    "### Data Preprocessing"
   ]
  },
  {
   "cell_type": "code",
   "execution_count": 5,
   "metadata": {},
   "outputs": [
    {
     "data": {
      "text/plain": [
       "(200, 4)"
      ]
     },
     "execution_count": 5,
     "metadata": {},
     "output_type": "execute_result"
    }
   ],
   "source": [
    "#inspecting size of dataset\n",
    "df.shape"
   ]
  },
  {
   "cell_type": "code",
   "execution_count": 6,
   "metadata": {},
   "outputs": [
    {
     "data": {
      "text/plain": [
       "Gender                    object\n",
       "Age                        int64\n",
       "Annual Income (k$)         int64\n",
       "Spending Score (1-100)     int64\n",
       "dtype: object"
      ]
     },
     "execution_count": 6,
     "metadata": {},
     "output_type": "execute_result"
    }
   ],
   "source": [
    "#inspecting datatypes\n",
    "df.dtypes"
   ]
  },
  {
   "cell_type": "markdown",
   "metadata": {},
   "source": [
    "##### Conclusion:\n",
    "\n",
    "All datatypes are coherent to expectation"
   ]
  },
  {
   "cell_type": "code",
   "execution_count": 7,
   "metadata": {},
   "outputs": [
    {
     "data": {
      "text/html": [
       "<div>\n",
       "<style scoped>\n",
       "    .dataframe tbody tr th:only-of-type {\n",
       "        vertical-align: middle;\n",
       "    }\n",
       "\n",
       "    .dataframe tbody tr th {\n",
       "        vertical-align: top;\n",
       "    }\n",
       "\n",
       "    .dataframe thead th {\n",
       "        text-align: right;\n",
       "    }\n",
       "</style>\n",
       "<table border=\"1\" class=\"dataframe\">\n",
       "  <thead>\n",
       "    <tr style=\"text-align: right;\">\n",
       "      <th></th>\n",
       "      <th>Gender</th>\n",
       "      <th>Age</th>\n",
       "      <th>Annual Income (k$)</th>\n",
       "      <th>Spending Score (1-100)</th>\n",
       "    </tr>\n",
       "  </thead>\n",
       "  <tbody>\n",
       "    <tr>\n",
       "      <th>0</th>\n",
       "      <td>False</td>\n",
       "      <td>False</td>\n",
       "      <td>False</td>\n",
       "      <td>False</td>\n",
       "    </tr>\n",
       "    <tr>\n",
       "      <th>1</th>\n",
       "      <td>False</td>\n",
       "      <td>False</td>\n",
       "      <td>False</td>\n",
       "      <td>False</td>\n",
       "    </tr>\n",
       "    <tr>\n",
       "      <th>2</th>\n",
       "      <td>False</td>\n",
       "      <td>False</td>\n",
       "      <td>False</td>\n",
       "      <td>False</td>\n",
       "    </tr>\n",
       "    <tr>\n",
       "      <th>3</th>\n",
       "      <td>False</td>\n",
       "      <td>False</td>\n",
       "      <td>False</td>\n",
       "      <td>False</td>\n",
       "    </tr>\n",
       "    <tr>\n",
       "      <th>4</th>\n",
       "      <td>False</td>\n",
       "      <td>False</td>\n",
       "      <td>False</td>\n",
       "      <td>False</td>\n",
       "    </tr>\n",
       "  </tbody>\n",
       "</table>\n",
       "</div>"
      ],
      "text/plain": [
       "   Gender    Age  Annual Income (k$)  Spending Score (1-100)\n",
       "0   False  False               False                   False\n",
       "1   False  False               False                   False\n",
       "2   False  False               False                   False\n",
       "3   False  False               False                   False\n",
       "4   False  False               False                   False"
      ]
     },
     "execution_count": 7,
     "metadata": {},
     "output_type": "execute_result"
    }
   ],
   "source": [
    "#checking for missing values\n",
    "missing_df = df.isnull()\n",
    "missing_df.head()"
   ]
  },
  {
   "cell_type": "code",
   "execution_count": 8,
   "metadata": {},
   "outputs": [
    {
     "name": "stdout",
     "output_type": "stream",
     "text": [
      "Gender\n",
      "False    200\n",
      "Name: Gender, dtype: int64\n",
      "\n",
      "Age\n",
      "False    200\n",
      "Name: Age, dtype: int64\n",
      "\n",
      "Annual Income (k$)\n",
      "False    200\n",
      "Name: Annual Income (k$), dtype: int64\n",
      "\n",
      "Spending Score (1-100)\n",
      "False    200\n",
      "Name: Spending Score (1-100), dtype: int64\n",
      "\n"
     ]
    }
   ],
   "source": [
    "for column in missing_df.columns.values.tolist():\n",
    "    print(column)\n",
    "    print(missing_df[column].value_counts())\n",
    "    print()"
   ]
  },
  {
   "cell_type": "markdown",
   "metadata": {},
   "source": [
    "##### Conclusion:\n",
    "\n",
    "No missing values in the dataset"
   ]
  },
  {
   "cell_type": "code",
   "execution_count": 9,
   "metadata": {},
   "outputs": [
    {
     "data": {
      "text/plain": [
       "<seaborn.axisgrid.PairGrid at 0x1de11a0fcc0>"
      ]
     },
     "execution_count": 9,
     "metadata": {},
     "output_type": "execute_result"
    },
    {
     "data": {
      "image/png": "[encoded data removed]",
      "text/plain": [
       "<Figure size 540x540 with 12 Axes>"
      ]
     },
     "metadata": {
      "needs_background": "light"
     },
     "output_type": "display_data"
    }
   ],
   "source": [
    "#plotting data for insights\n",
    "sns.pairplot(df, kind = 'reg')"
   ]
  },
  {
   "cell_type": "markdown",
   "metadata": {},
   "source": [
    "##### Conclusion:\n",
    "\n",
    "There is some correlation between Age and Spending score."
   ]
  },
  {
   "cell_type": "code",
   "execution_count": 10,
   "metadata": {},
   "outputs": [
    {
     "data": {
      "text/plain": [
       "array([18, 35, 55, 70])"
      ]
     },
     "execution_count": 10,
     "metadata": {},
     "output_type": "execute_result"
    }
   ],
   "source": [
    "#performing binning on age\n",
    "bins = np.array([min(df['Age']), 35, 55, max(df['Age'])])\n",
    "bins"
   ]
  },
  {
   "cell_type": "code",
   "execution_count": 11,
   "metadata": {},
   "outputs": [],
   "source": [
    "#making groups\n",
    "group_names = ['Young', 'Adult', 'Elder']"
   ]
  },
  {
   "cell_type": "code",
   "execution_count": 12,
   "metadata": {},
   "outputs": [
    {
     "data": {
      "text/html": [
       "<div>\n",
       "<style scoped>\n",
       "    .dataframe tbody tr th:only-of-type {\n",
       "        vertical-align: middle;\n",
       "    }\n",
       "\n",
       "    .dataframe tbody tr th {\n",
       "        vertical-align: top;\n",
       "    }\n",
       "\n",
       "    .dataframe thead th {\n",
       "        text-align: right;\n",
       "    }\n",
       "</style>\n",
       "<table border=\"1\" class=\"dataframe\">\n",
       "  <thead>\n",
       "    <tr style=\"text-align: right;\">\n",
       "      <th></th>\n",
       "      <th>Gender</th>\n",
       "      <th>Age</th>\n",
       "      <th>Annual Income (k$)</th>\n",
       "      <th>Spending Score (1-100)</th>\n",
       "      <th>Age-binned</th>\n",
       "    </tr>\n",
       "  </thead>\n",
       "  <tbody>\n",
       "    <tr>\n",
       "      <th>0</th>\n",
       "      <td>Male</td>\n",
       "      <td>19</td>\n",
       "      <td>15</td>\n",
       "      <td>39</td>\n",
       "      <td>Young</td>\n",
       "    </tr>\n",
       "    <tr>\n",
       "      <th>1</th>\n",
       "      <td>Male</td>\n",
       "      <td>21</td>\n",
       "      <td>15</td>\n",
       "      <td>81</td>\n",
       "      <td>Young</td>\n",
       "    </tr>\n",
       "    <tr>\n",
       "      <th>2</th>\n",
       "      <td>Female</td>\n",
       "      <td>20</td>\n",
       "      <td>16</td>\n",
       "      <td>6</td>\n",
       "      <td>Young</td>\n",
       "    </tr>\n",
       "    <tr>\n",
       "      <th>3</th>\n",
       "      <td>Female</td>\n",
       "      <td>23</td>\n",
       "      <td>16</td>\n",
       "      <td>77</td>\n",
       "      <td>Young</td>\n",
       "    </tr>\n",
       "    <tr>\n",
       "      <th>4</th>\n",
       "      <td>Female</td>\n",
       "      <td>31</td>\n",
       "      <td>17</td>\n",
       "      <td>40</td>\n",
       "      <td>Young</td>\n",
       "    </tr>\n",
       "  </tbody>\n",
       "</table>\n",
       "</div>"
      ],
      "text/plain": [
       "   Gender  Age  Annual Income (k$)  Spending Score (1-100) Age-binned\n",
       "0    Male   19                  15                      39      Young\n",
       "1    Male   21                  15                      81      Young\n",
       "2  Female   20                  16                       6      Young\n",
       "3  Female   23                  16                      77      Young\n",
       "4  Female   31                  17                      40      Young"
      ]
     },
     "execution_count": 12,
     "metadata": {},
     "output_type": "execute_result"
    }
   ],
   "source": [
    "#adding groups to the table\n",
    "df['Age-binned'] = pd.cut(df['Age'], bins, labels = group_names, include_lowest = True)\n",
    "df.head()"
   ]
  },
  {
   "cell_type": "code",
   "execution_count": 13,
   "metadata": {},
   "outputs": [
    {
     "data": {
      "text/plain": [
       "<matplotlib.axes._subplots.AxesSubplot at 0x1de12271208>"
      ]
     },
     "execution_count": 13,
     "metadata": {},
     "output_type": "execute_result"
    },
    {
     "data": {
      "image/png": "[encoded data removed]",
      "text/plain": [
       "<Figure size 432x288 with 1 Axes>"
      ]
     },
     "metadata": {},
     "output_type": "display_data"
    }
   ],
   "source": [
    "#plotting distribution of each bin\n",
    "sns.set(style=\"whitegrid\")\n",
    "sns.countplot(x = df['Age-binned'])"
   ]
  },
  {
   "cell_type": "markdown",
   "metadata": {},
   "source": [
    "##### Conclusion\n",
    "\n",
    "The mall is frequented mostly by young people followed by adults and hardly by elders."
   ]
  },
  {
   "cell_type": "code",
   "execution_count": 14,
   "metadata": {},
   "outputs": [
    {
     "data": {
      "text/plain": [
       "array([ 15.        ,  55.66666667,  96.33333333, 137.        ])"
      ]
     },
     "execution_count": 14,
     "metadata": {},
     "output_type": "execute_result"
    }
   ],
   "source": [
    "#performing binning on income\n",
    "bins = np.linspace(min(df['Annual Income (k$)']), max(df['Annual Income (k$)']), 4)\n",
    "bins"
   ]
  },
  {
   "cell_type": "code",
   "execution_count": 15,
   "metadata": {},
   "outputs": [],
   "source": [
    "#making groups\n",
    "group_names = ['Low', 'Medium', 'High']"
   ]
  },
  {
   "cell_type": "code",
   "execution_count": 16,
   "metadata": {},
   "outputs": [
    {
     "data": {
      "text/html": [
       "<div>\n",
       "<style scoped>\n",
       "    .dataframe tbody tr th:only-of-type {\n",
       "        vertical-align: middle;\n",
       "    }\n",
       "\n",
       "    .dataframe tbody tr th {\n",
       "        vertical-align: top;\n",
       "    }\n",
       "\n",
       "    .dataframe thead th {\n",
       "        text-align: right;\n",
       "    }\n",
       "</style>\n",
       "<table border=\"1\" class=\"dataframe\">\n",
       "  <thead>\n",
       "    <tr style=\"text-align: right;\">\n",
       "      <th></th>\n",
       "      <th>Gender</th>\n",
       "      <th>Age</th>\n",
       "      <th>Annual Income (k$)</th>\n",
       "      <th>Spending Score (1-100)</th>\n",
       "      <th>Age-binned</th>\n",
       "      <th>Income-binned</th>\n",
       "    </tr>\n",
       "  </thead>\n",
       "  <tbody>\n",
       "    <tr>\n",
       "      <th>0</th>\n",
       "      <td>Male</td>\n",
       "      <td>19</td>\n",
       "      <td>15</td>\n",
       "      <td>39</td>\n",
       "      <td>Young</td>\n",
       "      <td>Low</td>\n",
       "    </tr>\n",
       "    <tr>\n",
       "      <th>1</th>\n",
       "      <td>Male</td>\n",
       "      <td>21</td>\n",
       "      <td>15</td>\n",
       "      <td>81</td>\n",
       "      <td>Young</td>\n",
       "      <td>Low</td>\n",
       "    </tr>\n",
       "    <tr>\n",
       "      <th>2</th>\n",
       "      <td>Female</td>\n",
       "      <td>20</td>\n",
       "      <td>16</td>\n",
       "      <td>6</td>\n",
       "      <td>Young</td>\n",
       "      <td>Low</td>\n",
       "    </tr>\n",
       "    <tr>\n",
       "      <th>3</th>\n",
       "      <td>Female</td>\n",
       "      <td>23</td>\n",
       "      <td>16</td>\n",
       "      <td>77</td>\n",
       "      <td>Young</td>\n",
       "      <td>Low</td>\n",
       "    </tr>\n",
       "    <tr>\n",
       "      <th>4</th>\n",
       "      <td>Female</td>\n",
       "      <td>31</td>\n",
       "      <td>17</td>\n",
       "      <td>40</td>\n",
       "      <td>Young</td>\n",
       "      <td>Low</td>\n",
       "    </tr>\n",
       "  </tbody>\n",
       "</table>\n",
       "</div>"
      ],
      "text/plain": [
       "   Gender  Age  Annual Income (k$)  Spending Score (1-100) Age-binned  \\\n",
       "0    Male   19                  15                      39      Young   \n",
       "1    Male   21                  15                      81      Young   \n",
       "2  Female   20                  16                       6      Young   \n",
       "3  Female   23                  16                      77      Young   \n",
       "4  Female   31                  17                      40      Young   \n",
       "\n",
       "  Income-binned  \n",
       "0           Low  \n",
       "1           Low  \n",
       "2           Low  \n",
       "3           Low  \n",
       "4           Low  "
      ]
     },
     "execution_count": 16,
     "metadata": {},
     "output_type": "execute_result"
    }
   ],
   "source": [
    "#adding groups to table\n",
    "df['Income-binned'] = pd.cut(df['Annual Income (k$)'], bins, labels = group_names, include_lowest = True)\n",
    "df.head()"
   ]
  },
  {
   "cell_type": "code",
   "execution_count": 17,
   "metadata": {},
   "outputs": [
    {
     "data": {
      "text/plain": [
       "<matplotlib.axes._subplots.AxesSubplot at 0x1de123f17f0>"
      ]
     },
     "execution_count": 17,
     "metadata": {},
     "output_type": "execute_result"
    },
    {
     "data": {
      "image/png": "[encoded data removed]",
      "text/plain": [
       "<Figure size 432x288 with 1 Axes>"
      ]
     },
     "metadata": {},
     "output_type": "display_data"
    }
   ],
   "source": [
    "#plotting distribution of each bin\n",
    "sns.countplot(x = df['Income-binned'])"
   ]
  },
  {
   "cell_type": "markdown",
   "metadata": {},
   "source": [
    "##### Conclusion:\n",
    "\n",
    "The mall is frequented mostly by low and medium wealth income people and hardly by high income people."
   ]
  },
  {
   "cell_type": "markdown",
   "metadata": {},
   "source": [
    "### Exploratory Data Analysis"
   ]
  },
  {
   "cell_type": "code",
   "execution_count": 18,
   "metadata": {},
   "outputs": [
    {
     "data": {
      "text/html": [
       "<div>\n",
       "<style scoped>\n",
       "    .dataframe tbody tr th:only-of-type {\n",
       "        vertical-align: middle;\n",
       "    }\n",
       "\n",
       "    .dataframe tbody tr th {\n",
       "        vertical-align: top;\n",
       "    }\n",
       "\n",
       "    .dataframe thead th {\n",
       "        text-align: right;\n",
       "    }\n",
       "</style>\n",
       "<table border=\"1\" class=\"dataframe\">\n",
       "  <thead>\n",
       "    <tr style=\"text-align: right;\">\n",
       "      <th></th>\n",
       "      <th>Age</th>\n",
       "      <th>Annual Income (k$)</th>\n",
       "      <th>Spending Score (1-100)</th>\n",
       "    </tr>\n",
       "  </thead>\n",
       "  <tbody>\n",
       "    <tr>\n",
       "      <th>count</th>\n",
       "      <td>200.000000</td>\n",
       "      <td>200.000000</td>\n",
       "      <td>200.000000</td>\n",
       "    </tr>\n",
       "    <tr>\n",
       "      <th>mean</th>\n",
       "      <td>38.850000</td>\n",
       "      <td>60.560000</td>\n",
       "      <td>50.200000</td>\n",
       "    </tr>\n",
       "    <tr>\n",
       "      <th>std</th>\n",
       "      <td>13.969007</td>\n",
       "      <td>26.264721</td>\n",
       "      <td>25.823522</td>\n",
       "    </tr>\n",
       "    <tr>\n",
       "      <th>min</th>\n",
       "      <td>18.000000</td>\n",
       "      <td>15.000000</td>\n",
       "      <td>1.000000</td>\n",
       "    </tr>\n",
       "    <tr>\n",
       "      <th>25%</th>\n",
       "      <td>28.750000</td>\n",
       "      <td>41.500000</td>\n",
       "      <td>34.750000</td>\n",
       "    </tr>\n",
       "    <tr>\n",
       "      <th>50%</th>\n",
       "      <td>36.000000</td>\n",
       "      <td>61.500000</td>\n",
       "      <td>50.000000</td>\n",
       "    </tr>\n",
       "    <tr>\n",
       "      <th>75%</th>\n",
       "      <td>49.000000</td>\n",
       "      <td>78.000000</td>\n",
       "      <td>73.000000</td>\n",
       "    </tr>\n",
       "    <tr>\n",
       "      <th>max</th>\n",
       "      <td>70.000000</td>\n",
       "      <td>137.000000</td>\n",
       "      <td>99.000000</td>\n",
       "    </tr>\n",
       "  </tbody>\n",
       "</table>\n",
       "</div>"
      ],
      "text/plain": [
       "              Age  Annual Income (k$)  Spending Score (1-100)\n",
       "count  200.000000          200.000000              200.000000\n",
       "mean    38.850000           60.560000               50.200000\n",
       "std     13.969007           26.264721               25.823522\n",
       "min     18.000000           15.000000                1.000000\n",
       "25%     28.750000           41.500000               34.750000\n",
       "50%     36.000000           61.500000               50.000000\n",
       "75%     49.000000           78.000000               73.000000\n",
       "max     70.000000          137.000000               99.000000"
      ]
     },
     "execution_count": 18,
     "metadata": {},
     "output_type": "execute_result"
    }
   ],
   "source": [
    "#Understanding data distribution\n",
    "df.describe()"
   ]
  },
  {
   "cell_type": "code",
   "execution_count": 19,
   "metadata": {},
   "outputs": [
    {
     "data": {
      "text/html": [
       "<div>\n",
       "<style scoped>\n",
       "    .dataframe tbody tr th:only-of-type {\n",
       "        vertical-align: middle;\n",
       "    }\n",
       "\n",
       "    .dataframe tbody tr th {\n",
       "        vertical-align: top;\n",
       "    }\n",
       "\n",
       "    .dataframe thead th {\n",
       "        text-align: right;\n",
       "    }\n",
       "</style>\n",
       "<table border=\"1\" class=\"dataframe\">\n",
       "  <thead>\n",
       "    <tr style=\"text-align: right;\">\n",
       "      <th></th>\n",
       "      <th>Age</th>\n",
       "      <th>Annual Income (k$)</th>\n",
       "      <th>Spending Score (1-100)</th>\n",
       "    </tr>\n",
       "  </thead>\n",
       "  <tbody>\n",
       "    <tr>\n",
       "      <th>Age</th>\n",
       "      <td>1.000000</td>\n",
       "      <td>-0.012398</td>\n",
       "      <td>-0.327227</td>\n",
       "    </tr>\n",
       "    <tr>\n",
       "      <th>Annual Income (k$)</th>\n",
       "      <td>-0.012398</td>\n",
       "      <td>1.000000</td>\n",
       "      <td>0.009903</td>\n",
       "    </tr>\n",
       "    <tr>\n",
       "      <th>Spending Score (1-100)</th>\n",
       "      <td>-0.327227</td>\n",
       "      <td>0.009903</td>\n",
       "      <td>1.000000</td>\n",
       "    </tr>\n",
       "  </tbody>\n",
       "</table>\n",
       "</div>"
      ],
      "text/plain": [
       "                             Age  Annual Income (k$)  Spending Score (1-100)\n",
       "Age                     1.000000           -0.012398               -0.327227\n",
       "Annual Income (k$)     -0.012398            1.000000                0.009903\n",
       "Spending Score (1-100) -0.327227            0.009903                1.000000"
      ]
     },
     "execution_count": 19,
     "metadata": {},
     "output_type": "execute_result"
    }
   ],
   "source": [
    "#understanding inter column correlations\n",
    "df.corr()"
   ]
  },
  {
   "cell_type": "markdown",
   "metadata": {},
   "source": [
    "##### Conclusion:\n",
    "\n",
    "There seems to be some correlation between age and spending score."
   ]
  },
  {
   "cell_type": "code",
   "execution_count": 20,
   "metadata": {},
   "outputs": [
    {
     "data": {
      "text/plain": [
       "<matplotlib.axes._subplots.AxesSubplot at 0x1de1243c1d0>"
      ]
     },
     "execution_count": 20,
     "metadata": {},
     "output_type": "execute_result"
    },
    {
     "data": {
      "image/png": "[encoded data removed]",
      "text/plain": [
       "<Figure size 432x288 with 1 Axes>"
      ]
     },
     "metadata": {},
     "output_type": "display_data"
    }
   ],
   "source": [
    "#understanding gender distribution\n",
    "sns.countplot(x = df['Gender'])"
   ]
  },
  {
   "cell_type": "markdown",
   "metadata": {},
   "source": [
    "##### Conclusion:\n",
    "More females frequent the mall than males"
   ]
  },
  {
   "cell_type": "code",
   "execution_count": 21,
   "metadata": {},
   "outputs": [
    {
     "data": {
      "text/plain": [
       "<matplotlib.legend.Legend at 0x1de1248d3c8>"
      ]
     },
     "execution_count": 21,
     "metadata": {},
     "output_type": "execute_result"
    },
    {
     "data": {
      "image/png": "[encoded data removed]",
      "text/plain": [
       "<Figure size 432x288 with 1 Axes>"
      ]
     },
     "metadata": {},
     "output_type": "display_data"
    }
   ],
   "source": [
    "#finding relation between income and spending score\n",
    "sns.boxplot(x = df['Income-binned'], y = df['Spending Score (1-100)'], hue = df['Gender']).legend(loc='upper left')"
   ]
  },
  {
   "cell_type": "markdown",
   "metadata": {},
   "source": [
    "##### Conclusion:\n",
    "\n",
    "High income males tend to spend more in the mall."
   ]
  },
  {
   "cell_type": "code",
   "execution_count": 22,
   "metadata": {},
   "outputs": [
    {
     "data": {
      "text/plain": [
       "<matplotlib.axes._subplots.AxesSubplot at 0x1de12560dd8>"
      ]
     },
     "execution_count": 22,
     "metadata": {},
     "output_type": "execute_result"
    },
    {
     "data": {
      "image/png": "[encoded data removed]",
      "text/plain": [
       "<Figure size 432x288 with 1 Axes>"
      ]
     },
     "metadata": {},
     "output_type": "display_data"
    }
   ],
   "source": [
    "#finding relation between Age and Spending Score\n",
    "sns.boxplot(x = df['Age-binned'], y = df['Spending Score (1-100)'], hue = df['Gender'])"
   ]
  },
  {
   "cell_type": "markdown",
   "metadata": {},
   "source": [
    "##### Conclusion:\n",
    "\n",
    "Young people tend to spend more in the mall. Especially females."
   ]
  },
  {
   "cell_type": "code",
   "execution_count": 23,
   "metadata": {},
   "outputs": [
    {
     "data": {
      "text/plain": [
       "<matplotlib.axes._subplots.AxesSubplot at 0x1de1263d860>"
      ]
     },
     "execution_count": 23,
     "metadata": {},
     "output_type": "execute_result"
    },
    {
     "data": {
      "image/png": "[encoded data removed]",
      "text/plain": [
       "<Figure size 432x288 with 1 Axes>"
      ]
     },
     "metadata": {},
     "output_type": "display_data"
    }
   ],
   "source": [
    "#finding relation between age and annual income\n",
    "sns.boxplot(x = df['Age-binned'], y = df['Annual Income (k$)'], hue = df['Gender'])"
   ]
  },
  {
   "cell_type": "markdown",
   "metadata": {},
   "source": [
    "##### Conclusion:\n",
    "\n",
    "There is no relation in income and age brackets. Males tend to have more income than females on an average."
   ]
  },
  {
   "cell_type": "markdown",
   "metadata": {},
   "source": [
    "### Kmeans Clustering"
   ]
  },
  {
   "cell_type": "markdown",
   "metadata": {},
   "source": [
    "Now we segregate customers based on their spending habits using Kmeans."
   ]
  },
  {
   "cell_type": "code",
   "execution_count": 24,
   "metadata": {},
   "outputs": [],
   "source": [
    "#Dropping extra columns used for analysis\n",
    "df.drop(['Age-binned', 'Income-binned'], axis = 1, inplace = True)"
   ]
  },
  {
   "cell_type": "code",
   "execution_count": 25,
   "metadata": {},
   "outputs": [],
   "source": [
    "#Handling categorical data\n",
    "df = pd.concat([df, pd.get_dummies(df['Gender'])], axis = 1)"
   ]
  },
  {
   "cell_type": "code",
   "execution_count": 26,
   "metadata": {},
   "outputs": [
    {
     "data": {
      "text/html": [
       "<div>\n",
       "<style scoped>\n",
       "    .dataframe tbody tr th:only-of-type {\n",
       "        vertical-align: middle;\n",
       "    }\n",
       "\n",
       "    .dataframe tbody tr th {\n",
       "        vertical-align: top;\n",
       "    }\n",
       "\n",
       "    .dataframe thead th {\n",
       "        text-align: right;\n",
       "    }\n",
       "</style>\n",
       "<table border=\"1\" class=\"dataframe\">\n",
       "  <thead>\n",
       "    <tr style=\"text-align: right;\">\n",
       "      <th></th>\n",
       "      <th>Gender</th>\n",
       "      <th>Age</th>\n",
       "      <th>Annual Income (k$)</th>\n",
       "      <th>Spending Score (1-100)</th>\n",
       "      <th>Female</th>\n",
       "      <th>Male</th>\n",
       "    </tr>\n",
       "  </thead>\n",
       "  <tbody>\n",
       "    <tr>\n",
       "      <th>0</th>\n",
       "      <td>Male</td>\n",
       "      <td>19</td>\n",
       "      <td>15</td>\n",
       "      <td>39</td>\n",
       "      <td>0</td>\n",
       "      <td>1</td>\n",
       "    </tr>\n",
       "    <tr>\n",
       "      <th>1</th>\n",
       "      <td>Male</td>\n",
       "      <td>21</td>\n",
       "      <td>15</td>\n",
       "      <td>81</td>\n",
       "      <td>0</td>\n",
       "      <td>1</td>\n",
       "    </tr>\n",
       "    <tr>\n",
       "      <th>2</th>\n",
       "      <td>Female</td>\n",
       "      <td>20</td>\n",
       "      <td>16</td>\n",
       "      <td>6</td>\n",
       "      <td>1</td>\n",
       "      <td>0</td>\n",
       "    </tr>\n",
       "    <tr>\n",
       "      <th>3</th>\n",
       "      <td>Female</td>\n",
       "      <td>23</td>\n",
       "      <td>16</td>\n",
       "      <td>77</td>\n",
       "      <td>1</td>\n",
       "      <td>0</td>\n",
       "    </tr>\n",
       "    <tr>\n",
       "      <th>4</th>\n",
       "      <td>Female</td>\n",
       "      <td>31</td>\n",
       "      <td>17</td>\n",
       "      <td>40</td>\n",
       "      <td>1</td>\n",
       "      <td>0</td>\n",
       "    </tr>\n",
       "  </tbody>\n",
       "</table>\n",
       "</div>"
      ],
      "text/plain": [
       "   Gender  Age  Annual Income (k$)  Spending Score (1-100)  Female  Male\n",
       "0    Male   19                  15                      39       0     1\n",
       "1    Male   21                  15                      81       0     1\n",
       "2  Female   20                  16                       6       1     0\n",
       "3  Female   23                  16                      77       1     0\n",
       "4  Female   31                  17                      40       1     0"
      ]
     },
     "execution_count": 26,
     "metadata": {},
     "output_type": "execute_result"
    }
   ],
   "source": [
    "#inspecting dataframe\n",
    "df.head()"
   ]
  },
  {
   "cell_type": "code",
   "execution_count": 27,
   "metadata": {},
   "outputs": [],
   "source": [
    "#dropping Gender column\n",
    "df.drop(['Gender'], axis = 1, inplace = True)"
   ]
  },
  {
   "cell_type": "code",
   "execution_count": 28,
   "metadata": {},
   "outputs": [
    {
     "data": {
      "text/html": [
       "<div>\n",
       "<style scoped>\n",
       "    .dataframe tbody tr th:only-of-type {\n",
       "        vertical-align: middle;\n",
       "    }\n",
       "\n",
       "    .dataframe tbody tr th {\n",
       "        vertical-align: top;\n",
       "    }\n",
       "\n",
       "    .dataframe thead th {\n",
       "        text-align: right;\n",
       "    }\n",
       "</style>\n",
       "<table border=\"1\" class=\"dataframe\">\n",
       "  <thead>\n",
       "    <tr style=\"text-align: right;\">\n",
       "      <th></th>\n",
       "      <th>Age</th>\n",
       "      <th>Annual Income (k$)</th>\n",
       "      <th>Spending Score (1-100)</th>\n",
       "      <th>Female</th>\n",
       "      <th>Male</th>\n",
       "    </tr>\n",
       "  </thead>\n",
       "  <tbody>\n",
       "    <tr>\n",
       "      <th>0</th>\n",
       "      <td>19</td>\n",
       "      <td>15</td>\n",
       "      <td>39</td>\n",
       "      <td>0</td>\n",
       "      <td>1</td>\n",
       "    </tr>\n",
       "    <tr>\n",
       "      <th>1</th>\n",
       "      <td>21</td>\n",
       "      <td>15</td>\n",
       "      <td>81</td>\n",
       "      <td>0</td>\n",
       "      <td>1</td>\n",
       "    </tr>\n",
       "    <tr>\n",
       "      <th>2</th>\n",
       "      <td>20</td>\n",
       "      <td>16</td>\n",
       "      <td>6</td>\n",
       "      <td>1</td>\n",
       "      <td>0</td>\n",
       "    </tr>\n",
       "    <tr>\n",
       "      <th>3</th>\n",
       "      <td>23</td>\n",
       "      <td>16</td>\n",
       "      <td>77</td>\n",
       "      <td>1</td>\n",
       "      <td>0</td>\n",
       "    </tr>\n",
       "    <tr>\n",
       "      <th>4</th>\n",
       "      <td>31</td>\n",
       "      <td>17</td>\n",
       "      <td>40</td>\n",
       "      <td>1</td>\n",
       "      <td>0</td>\n",
       "    </tr>\n",
       "  </tbody>\n",
       "</table>\n",
       "</div>"
      ],
      "text/plain": [
       "   Age  Annual Income (k$)  Spending Score (1-100)  Female  Male\n",
       "0   19                  15                      39       0     1\n",
       "1   21                  15                      81       0     1\n",
       "2   20                  16                       6       1     0\n",
       "3   23                  16                      77       1     0\n",
       "4   31                  17                      40       1     0"
      ]
     },
     "execution_count": 28,
     "metadata": {},
     "output_type": "execute_result"
    }
   ],
   "source": [
    "#inspecting dataframe\n",
    "df.head()"
   ]
  },
  {
   "cell_type": "code",
   "execution_count": 29,
   "metadata": {},
   "outputs": [
    {
     "name": "stdout",
     "output_type": "stream",
     "text": [
      "[[0.4138265  0.32670513 0.84943334 0.         0.02178034]\n",
      " [0.24700755 0.17643396 0.9527434  0.         0.01176226]\n",
      " [0.75973718 0.60778974 0.22792115 0.03798686 0.        ]\n",
      " [0.28067571 0.19525267 0.93965346 0.01220329 0.        ]\n",
      " [0.58058136 0.31838332 0.74913723 0.01872843 0.        ]\n",
      " [0.27183291 0.2100527  0.93905914 0.01235604 0.        ]\n",
      " [0.87885343 0.45198176 0.15066059 0.0251101  0.        ]\n",
      " [0.23365009 0.18285659 0.95491775 0.0101587  0.        ]\n",
      " [0.95757323 0.28427955 0.04488625 0.         0.01496208]\n",
      " [0.37365957 0.23665106 0.89678296 0.01245532 0.        ]\n",
      " [0.94310088 0.26744652 0.19706586 0.         0.01407613]\n",
      " [0.3279777  0.17804504 0.92770835 0.00937079 0.        ]\n",
      " [0.918209   0.31662379 0.23746785 0.01583119 0.        ]\n",
      " [0.28880051 0.24066709 0.9265683  0.01203335 0.        ]\n",
      " [0.84025832 0.45419368 0.29522589 0.         0.02270968]\n",
      " [0.26061522 0.23692293 0.93584556 0.         0.01184615]\n",
      " [0.650832   0.3904992  0.650832   0.0185952  0.        ]\n",
      " [0.27740345 0.29127362 0.91543139 0.         0.01387017]\n",
      " [0.81459087 0.36029981 0.45429106 0.         0.01566521]\n",
      " [0.3283961  0.21580315 0.91950909 0.00938275 0.        ]\n",
      " [0.63615337 0.43621946 0.63615337 0.         0.01817581]\n",
      " [0.30935003 0.29697603 0.9033021  0.         0.012374  ]\n",
      " [0.87448679 0.47526456 0.09505291 0.01901058 0.        ]\n",
      " [0.3727642  0.30061629 0.87779958 0.         0.01202465]\n",
      " [0.8650248  0.44853138 0.22426569 0.01601898 0.        ]\n",
      " [0.31736188 0.30641837 0.89736807 0.         0.01094351]\n",
      " [0.72675237 0.45220148 0.51680169 0.01615005 0.        ]\n",
      " [0.46233081 0.36986465 0.80577656 0.         0.01320945]\n",
      " [0.6856919  0.49712662 0.53141122 0.0171423  0.        ]\n",
      " [0.24325349 0.30671092 0.92013276 0.01057624 0.        ]\n",
      " [0.89274249 0.44637124 0.05951617 0.         0.01487904]\n",
      " [0.25711287 0.36730411 0.89377333 0.01224347 0.        ]\n",
      " [0.84705183 0.52740963 0.06392844 0.         0.01598211]\n",
      " [0.18110815 0.33203161 0.92566388 0.         0.01006156]\n",
      " [0.80697394 0.54347225 0.23056398 0.01646886 0.        ]\n",
      " [0.23344865 0.36684787 0.90044477 0.0111166  0.        ]\n",
      " [0.74130474 0.60010383 0.30005192 0.01765011 0.        ]\n",
      " [0.34907328 0.39561638 0.84941164 0.01163578 0.        ]\n",
      " [0.62272927 0.6400273  0.44974892 0.01729804 0.        ]\n",
      " [0.23257386 0.43026165 0.87215199 0.01162869 0.        ]\n",
      " [0.78279172 0.45763208 0.42150323 0.01204295 0.        ]\n",
      " [0.23438349 0.3711072  0.89847006 0.         0.00976598]\n",
      " [0.67068941 0.54493515 0.50301706 0.         0.0139727 ]\n",
      " [0.39357345 0.4951408  0.77445099 0.01269592 0.        ]\n",
      " [0.7142068  0.56845031 0.40811817 0.01457565 0.        ]\n",
      " [0.30182114 0.49045935 0.81743225 0.01257588 0.        ]\n",
      " [0.59230731 0.47384585 0.65153805 0.01184615 0.        ]\n",
      " [0.40075936 0.59371757 0.69761814 0.01484294 0.        ]\n",
      " [0.44716043 0.616773   0.64761166 0.01541933 0.        ]\n",
      " [0.47132279 0.60815843 0.63856636 0.01520396 0.        ]\n",
      " [0.59117725 0.50672336 0.62737177 0.01206484 0.        ]\n",
      " [0.4107707  0.52279907 0.74685582 0.         0.0124476 ]\n",
      " [0.40963599 0.56820476 0.71355946 0.01321406 0.        ]\n",
      " [0.62431241 0.45500735 0.63489397 0.         0.01058157]\n",
      " [0.62622429 0.53855289 0.56360186 0.01252449 0.        ]\n",
      " [0.62035732 0.56756095 0.54116277 0.         0.01319909]\n",
      " [0.60791876 0.52447893 0.59599878 0.01191998 0.        ]\n",
      " [0.73495808 0.46866892 0.48997205 0.         0.01065157]\n",
      " [0.36583485 0.62327419 0.69102139 0.01354944 0.        ]\n",
      " [0.63157926 0.54816313 0.54816313 0.         0.01191659]\n",
      " [0.69470568 0.45652087 0.55576454 0.         0.00992437]\n",
      " [0.2561261  0.62009478 0.74141767 0.         0.01348032]\n",
      " [0.69094199 0.48469065 0.53625348 0.01031257 0.        ]\n",
      " [0.58206014 0.5066079  0.6359546  0.01077889 0.        ]\n",
      " [0.66873856 0.5095151  0.54135979 0.         0.0106149 ]\n",
      " [0.23027771 0.61407389 0.75479916 0.         0.01279321]\n",
      " [0.52714132 0.58843682 0.61295502 0.0122591  0.        ]\n",
      " [0.70768093 0.49953948 0.49953948 0.01040707 0.        ]\n",
      " [0.24233827 0.61222299 0.75252409 0.         0.01275465]\n",
      " [0.430005   0.6450075  0.63156984 0.01343766 0.        ]\n",
      " [0.68882825 0.48217978 0.5412222  0.         0.0098404 ]\n",
      " [0.58865083 0.61369981 0.5260284  0.01252449 0.        ]\n",
      " [0.65071482 0.54226235 0.53141711 0.01084525 0.        ]\n",
      " [0.62428914 0.52024095 0.58266986 0.01040482 0.        ]\n",
      " [0.6359546  0.58206014 0.5066079  0.         0.01077889]\n",
      " [0.32226728 0.66932435 0.66932435 0.         0.0123949 ]\n",
      " [0.51113268 0.61335921 0.60200071 0.0113585  0.        ]\n",
      " [0.48432397 0.65383736 0.58118877 0.         0.0121081 ]\n",
      " [0.29328529 0.68858285 0.66307978 0.01275153 0.        ]\n",
      " [0.58226156 0.641676   0.49908134 0.01188289 0.        ]\n",
      " [0.60876455 0.57672431 0.54468407 0.         0.01068008]\n",
      " [0.44215948 0.6283319  0.63996767 0.         0.01163578]\n",
      " [0.70285306 0.56647858 0.43010411 0.         0.01049034]\n",
      " [0.55102664 0.64685737 0.52706896 0.01197884 0.        ]\n",
      " [0.25835516 0.66434184 0.70124972 0.01230263 0.        ]\n",
      " [0.56037916 0.63042656 0.53703003 0.         0.01167457]\n",
      " [0.56020464 0.58057571 0.59076125 0.01018554 0.        ]\n",
      " [0.26759713 0.69331985 0.66899283 0.01216351 0.        ]\n",
      " [0.37728902 0.64361067 0.66580415 0.01109674 0.        ]\n",
      " [0.55968201 0.64923113 0.51490745 0.01119364 0.        ]\n",
      " [0.64452805 0.55922287 0.52130945 0.00947835 0.        ]\n",
      " [0.2429993  0.79649771 0.55349841 0.         0.01349996]\n",
      " [0.52667812 0.65834765 0.53765058 0.         0.01097246]\n",
      " [0.48503559 0.72755338 0.48503559 0.01212589 0.        ]\n",
      " [0.40034419 0.75064536 0.52545175 0.01251076 0.        ]\n",
      " [0.28932467 0.72331167 0.62687011 0.         0.01205519]\n",
      " [0.52485308 0.67002521 0.52485308 0.01116709 0.        ]\n",
      " [0.32670322 0.72600715 0.60500596 0.01210012 0.        ]\n",
      " [0.5438417  0.69113217 0.47586149 0.         0.01133004]\n",
      " [0.24763174 0.7552768  0.60669776 0.         0.01238159]\n",
      " [0.29557709 0.79677301 0.52689828 0.01285118 0.        ]\n",
      " [0.52992331 0.67051521 0.51910855 0.01081476 0.        ]\n",
      " [0.61639334 0.57039384 0.54279414 0.         0.0091999 ]\n",
      " [0.29930567 0.71372891 0.63314661 0.         0.01151176]\n",
      " [0.505881   0.64009432 0.57814971 0.         0.0103241 ]\n",
      " [0.26998623 0.79710219 0.53997245 0.01285649 0.        ]\n",
      " [0.63432222 0.60548939 0.48054714 0.00961094 0.        ]\n",
      " [0.56914674 0.66400453 0.48482871 0.         0.01053975]\n",
      " [0.66542065 0.61649266 0.4207807  0.         0.0097856 ]\n",
      " [0.64014345 0.61104602 0.46555887 0.         0.00969914]\n",
      " [0.62261565 0.60345824 0.49809252 0.         0.0095787 ]\n",
      " [0.22318987 0.74005061 0.63432909 0.01174684 0.        ]\n",
      " [0.44460412 0.74880695 0.49140456 0.01170011 0.        ]\n",
      " [0.23433586 0.78934184 0.56733945 0.         0.01233347]\n",
      " [0.21742048 0.78512952 0.57978795 0.01207892 0.        ]\n",
      " [0.22569523 0.77211527 0.59393482 0.0118787  0.        ]\n",
      " [0.62861856 0.6485747  0.42905711 0.00997807 0.        ]\n",
      " [0.48737524 0.64651818 0.58683958 0.00994643 0.        ]\n",
      " [0.53938817 0.70860799 0.45477826 0.01057624 0.        ]\n",
      " [0.49413001 0.66213422 0.56330821 0.0098826  0.        ]\n",
      " [0.29538643 0.73299595 0.61265333 0.         0.01094024]\n",
      " [0.43779499 0.7719017  0.46083683 0.01152092 0.        ]\n",
      " [0.40559525 0.6996518  0.58811311 0.01013988 0.        ]\n",
      " [0.32316497 0.5717534  0.75405159 0.         0.00828628]\n",
      " [0.29044201 0.88395395 0.36620949 0.01262791 0.        ]\n",
      " [0.28548702 0.64464812 0.70911293 0.00920926 0.        ]\n",
      " [0.4773066  0.78811089 0.38850537 0.         0.01110015]\n",
      " [0.31957079 0.56723814 0.75898061 0.         0.00798927]\n",
      " [0.63459206 0.76366163 0.11831377 0.         0.0107558 ]\n",
      " [0.34529763 0.64516136 0.68150848 0.         0.00908678]\n",
      " [0.54889166 0.82917676 0.10510691 0.         0.01167855]\n",
      " [0.35326319 0.64312016 0.67935229 0.         0.00905803]\n",
      " [0.29953548 0.86266219 0.40736825 0.01198142 0.        ]\n",
      " [0.29309261 0.68073123 0.67127663 0.0094546  0.        ]\n",
      " [0.26363759 0.9622772  0.0659094  0.         0.01318188]\n",
      " [0.24584218 0.6188441  0.74600385 0.00847732 0.        ]\n",
      " [0.51445277 0.85352392 0.08184476 0.01169211 0.        ]\n",
      " [0.29605527 0.67537607 0.67537607 0.         0.00925173]\n",
      " [0.24656618 0.96031038 0.12977167 0.         0.01297717]\n",
      " [0.32103337 0.67875627 0.66041151 0.00917238 0.        ]\n",
      " [0.60419879 0.79499841 0.05299989 0.01059998 0.        ]\n",
      " [0.25871312 0.60635888 0.75188501 0.         0.00808479]\n",
      " [0.30994622 0.84128259 0.44278031 0.01106951 0.        ]\n",
      " [0.26694488 0.63399409 0.72575639 0.00834203 0.        ]\n",
      " [0.30544641 0.94077493 0.14661427 0.         0.01221786]\n",
      " [0.22051346 0.60641202 0.76392163 0.         0.00787548]\n",
      " [0.49169386 0.7887589  0.3687704  0.         0.01024362]\n",
      " [0.28702149 0.69064546 0.66373719 0.00896942 0.        ]\n",
      " [0.38683848 0.88745299 0.25030725 0.0113776  0.        ]\n",
      " [0.27450615 0.62974941 0.72663393 0.         0.00807371]\n",
      " [0.474191   0.86016043 0.18747086 0.         0.0110277 ]\n",
      " [0.31478238 0.62956476 0.71027819 0.         0.00807134]\n",
      " [0.47948038 0.84998795 0.21794563 0.01089728 0.        ]\n",
      " [0.32943987 0.67621868 0.65887974 0.00866947 0.        ]\n",
      " [0.50829379 0.84355139 0.17303618 0.01081476 0.        ]\n",
      " [0.22242761 0.64256865 0.7331873  0.00823806 0.        ]\n",
      " [0.42852671 0.90338064 0.0115818  0.         0.0115818 ]\n",
      " [0.2624219  0.68229694 0.68229694 0.0087474  0.        ]\n",
      " [0.39953024 0.91656938 0.01175089 0.         0.01175089]\n",
      " [0.27034708 0.7029024  0.65784456 0.00901157 0.        ]\n",
      " [0.54384313 0.76720727 0.33990196 0.00971148 0.        ]\n",
      " [0.2453402  0.66834054 0.70218056 0.00846001 0.        ]\n",
      " [0.22794165 0.97175126 0.05998465 0.         0.01199693]\n",
      " [0.24376976 0.63694679 0.73130928 0.00786354 0.        ]\n",
      " [0.4902432  0.83341344 0.25492646 0.         0.00980486]\n",
      " [0.30267066 0.71463906 0.63056388 0.00840752 0.        ]\n",
      " [0.42953408 0.87952217 0.20454004 0.         0.010227  ]\n",
      " [0.24937819 0.64989467 0.71790691 0.00755691 0.        ]\n",
      " [0.36751918 0.88817136 0.27563939 0.01020887 0.        ]\n",
      " [0.28549815 0.7761981  0.56207448 0.         0.00892182]\n",
      " [0.4139137  0.9002623  0.13452195 0.         0.01034784]\n",
      " [0.23682087 0.73583629 0.63434163 0.         0.00845789]\n",
      " [0.38019214 0.91879767 0.10560893 0.         0.01056089]\n",
      " [0.27346593 0.66087599 0.69885736 0.         0.00759628]\n",
      " [0.50464036 0.85400677 0.12616009 0.00970462 0.        ]\n",
      " [0.23686753 0.69481143 0.67902026 0.00789558 0.        ]\n",
      " [0.54479911 0.82659175 0.14089632 0.         0.00939309]\n",
      " [0.23469389 0.76492825 0.59977329 0.         0.00869237]\n",
      " [0.53140216 0.83763391 0.12609543 0.         0.00900682]\n",
      " [0.26105595 0.69366295 0.67128673 0.         0.00745874]\n",
      " [0.34056932 0.89284389 0.29454644 0.00920458 0.        ]\n",
      " [0.23964827 0.72643383 0.64405474 0.00748901 0.        ]\n",
      " [0.42086865 0.89663321 0.13723978 0.         0.00914932]\n",
      " [0.21502138 0.72662398 0.65247868 0.00741453 0.        ]\n",
      " [0.35953848 0.86815389 0.34200002 0.00876923 0.        ]\n",
      " [0.21154581 0.69810116 0.68399811 0.         0.00705153]\n",
      " [0.46145419 0.86309025 0.20509075 0.00854545 0.        ]\n",
      " [0.2241076  0.80838812 0.54426131 0.         0.00800384]\n",
      " [0.36554726 0.91832605 0.15156838 0.00891579 0.        ]\n",
      " [0.26027573 0.74467777 0.61453991 0.00722988 0.        ]\n",
      " [0.30663001 0.92890855 0.20742618 0.00901853 0.        ]\n",
      " [0.24991612 0.80441751 0.53888163 0.00780988 0.        ]\n",
      " [0.27967106 0.95766151 0.06779904 0.         0.00847488]\n",
      " [0.25336149 0.75341705 0.60673409 0.00666741 0.        ]\n",
      " [0.36190269 0.92400687 0.12320092 0.00770006 0.        ]\n",
      " [0.23668648 0.81149649 0.53423519 0.00676247 0.        ]\n",
      " [0.32919584 0.92174836 0.20483297 0.00731546 0.        ]\n",
      " [0.21391885 0.84230546 0.49468733 0.         0.00668496]\n",
      " [0.2256096  0.9658911  0.1269054  0.         0.0070503 ]\n",
      " [0.18408373 0.84064901 0.50929831 0.         0.00613612]]\n"
     ]
    }
   ],
   "source": [
    "#Normalizing data\n",
    "from sklearn import preprocessing\n",
    "normalized_df = preprocessing.normalize(df)\n",
    "print(normalized_df)"
   ]
  },
  {
   "cell_type": "code",
   "execution_count": 30,
   "metadata": {},
   "outputs": [],
   "source": [
    "#Calculating Kmeans intertia\n",
    "from sklearn.cluster import KMeans\n",
    "Kmeans_inertia = []\n",
    "K = range(1,15)\n",
    "for k in K:\n",
    "    km = KMeans(n_clusters=k)\n",
    "    km = km.fit(normalized_df)\n",
    "    Kmeans_inertia.append(km.inertia_)"
   ]
  },
  {
   "cell_type": "code",
   "execution_count": 31,
   "metadata": {},
   "outputs": [
    {
     "data": {
      "text/plain": [
       "[Text(0, 0.5, 'Sum of squared distances'), Text(0.5, 0, 'clusters')]"
      ]
     },
     "execution_count": 31,
     "metadata": {},
     "output_type": "execute_result"
    },
    {
     "data": {
      "image/png": "[encoded data removed]",
      "text/plain": [
       "<Figure size 432x288 with 1 Axes>"
      ]
     },
     "metadata": {},
     "output_type": "display_data"
    }
   ],
   "source": [
    "#Plotting inertia to find knee.\n",
    "ax = sns.lineplot(K, Kmeans_inertia)\n",
    "ax.set(xlabel='clusters', ylabel='Sum of squared distances')"
   ]
  },
  {
   "cell_type": "markdown",
   "metadata": {},
   "source": [
    "##### Conclusion:\n",
    "\n",
    "Optimal number of clusters is five. Therefore there are broadly five types of customers."
   ]
  },
  {
   "cell_type": "code",
   "execution_count": 32,
   "metadata": {},
   "outputs": [
    {
     "data": {
      "text/plain": [
       "<matplotlib.legend.Legend at 0x1de128078d0>"
      ]
     },
     "execution_count": 32,
     "metadata": {},
     "output_type": "execute_result"
    },
    {
     "data": {
      "image/png": "[encoded data removed]",
      "text/plain": [
       "<Figure size 432x288 with 1 Axes>"
      ]
     },
     "metadata": {},
     "output_type": "display_data"
    }
   ],
   "source": [
    "#Visualizing the five types of customers\n",
    "km = KMeans(n_clusters = 5)\n",
    "km.fit(df)\n",
    "cluster = km.predict(df)\n",
    "ax = sns.scatterplot(df['Annual Income (k$)'], df['Spending Score (1-100)'], hue = cluster)\n",
    "ax.legend(['cluster 1', 'cluster 2', 'cluster 3', 'cluster 4', 'cluster 5'])"
   ]
  },
  {
   "cell_type": "markdown",
   "metadata": {},
   "source": [
    "# Conclusions:\n",
    "\n",
    "1) High income males are to be targeted.\n",
    "\n",
    "2) Low income young males and females are to be advertised.\n",
    "\n",
    "3) There are five types of customers: High income High spenders, High income low spenders, Average income average spenders,        Low income high spenders and low income low spenders. "
   ]
  },
  {
   "cell_type": "code",
   "execution_count": null,
   "metadata": {},
   "outputs": [],
   "source": []
  }
 ],
 "metadata": {
  "kernelspec": {
   "display_name": "Python 3",
   "language": "python",
   "name": "python3"
  },
  "language_info": {
   "codemirror_mode": {
    "name": "ipython",
    "version": 3
   },
   "file_extension": ".py",
   "mimetype": "text/x-python",
   "name": "python",
   "nbconvert_exporter": "python",
   "pygments_lexer": "ipython3",
   "version": "3.6.10"
  }
 },
 "nbformat": 4,
 "nbformat_minor": 4
}
